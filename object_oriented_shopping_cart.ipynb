{
 "cells": [
  {
   "cell_type": "code",
   "execution_count": 1,
   "metadata": {
    "scrolled": true
   },
   "outputs": [],
   "source": [
    "class shopping_cart():\n",
    "\n",
    "    def __init__(self, shopping_list=[]):\n",
    "        self.shopping_list = shopping_list \n",
    "        \n",
    "    def add_to_cart(self, item):\n",
    "        menu = ['egg', 'bread', 'french toast','avocado','sweet potato']\n",
    "        if item in menu:\n",
    "            self.shopping_list.append(item.lower())\n",
    "            print(f'\\n{item.title()} has been added to your shopping cart.\\n')\n",
    "        else:\n",
    "            print('\\nThat is not on the menu for today.\\n')\n",
    "            print('\\nHere are the items that are currently being served today:\\n')\n",
    "            for idx, food in enumerate(menu):\n",
    "                print(f'{idx+1}. {food}')\n",
    "\n",
    "                \n",
    "    def remove_from_cart(self, item):\n",
    "        menu = ['egg', 'bread', 'french toast','avocado','sweet potato']\n",
    "        if item.lower() in self.shopping_list:\n",
    "            self.shopping_list.remove(item)\n",
    "            print(f'\\n{item.title()} has been removed from your shopping cart.\\n')\n",
    "        else:\n",
    "            print('\\nThat item is not in your cart.\\n')\n",
    "            print('\\nBelow is the list of items in your shopping cart:\\n')\n",
    "            for i in set(self.shopping_list):\n",
    "                print(str(self.shopping_list.count(i)) + \" \" + i.title() + '(s)')           \n",
    "            \n",
    "            \n",
    "    def items_in_cart(self):\n",
    "        if self.shopping_list == []:\n",
    "            print('\\nYour shopping cart is currently empty.\\n')\n",
    "        else:\n",
    "            print('\\nBelow is the list of items in your shopping cart:\\n')\n",
    "            for i in set(self.shopping_list):\n",
    "                print(str(self.shopping_list.count(i)) + \" \" + i.title() + '(s)')"
   ]
  },
  {
   "cell_type": "code",
   "execution_count": 2,
   "metadata": {},
   "outputs": [],
   "source": [
    "cart1 = shopping_cart()"
   ]
  },
  {
   "cell_type": "code",
   "execution_count": 3,
   "metadata": {},
   "outputs": [
    {
     "name": "stdout",
     "output_type": "stream",
     "text": [
      "\n",
      "Egg has been added to your shopping cart.\n",
      "\n"
     ]
    }
   ],
   "source": [
    "cart1.add_to_cart('egg')"
   ]
  },
  {
   "cell_type": "code",
   "execution_count": 4,
   "metadata": {},
   "outputs": [
    {
     "name": "stdout",
     "output_type": "stream",
     "text": [
      "\n",
      "Egg has been added to your shopping cart.\n",
      "\n"
     ]
    }
   ],
   "source": [
    "cart1.add_to_cart('egg')"
   ]
  },
  {
   "cell_type": "code",
   "execution_count": 5,
   "metadata": {},
   "outputs": [
    {
     "name": "stdout",
     "output_type": "stream",
     "text": [
      "\n",
      "Bread has been added to your shopping cart.\n",
      "\n"
     ]
    }
   ],
   "source": [
    "cart1.add_to_cart('bread')"
   ]
  },
  {
   "cell_type": "code",
   "execution_count": 6,
   "metadata": {
    "scrolled": true
   },
   "outputs": [
    {
     "name": "stdout",
     "output_type": "stream",
     "text": [
      "\n",
      "That is not on the menu for today.\n",
      "\n",
      "\n",
      "Here are the items that are currently being served today:\n",
      "\n",
      "1. egg\n",
      "2. bread\n",
      "3. french toast\n",
      "4. avocado\n",
      "5. sweet potato\n"
     ]
    }
   ],
   "source": [
    "cart1.add_to_cart('beans')"
   ]
  },
  {
   "cell_type": "code",
   "execution_count": 7,
   "metadata": {},
   "outputs": [
    {
     "name": "stdout",
     "output_type": "stream",
     "text": [
      "\n",
      "Below is the list of items in your shopping cart:\n",
      "\n",
      "1 Bread(s)\n",
      "2 Egg(s)\n"
     ]
    }
   ],
   "source": [
    "cart1.items_in_cart()"
   ]
  },
  {
   "cell_type": "code",
   "execution_count": 8,
   "metadata": {},
   "outputs": [
    {
     "name": "stdout",
     "output_type": "stream",
     "text": [
      "\n",
      "That item is not in your cart.\n",
      "\n",
      "\n",
      "Below is the list of items in your shopping cart:\n",
      "\n",
      "1 Bread(s)\n",
      "2 Egg(s)\n"
     ]
    }
   ],
   "source": [
    "cart1.remove_from_cart('breads')"
   ]
  },
  {
   "cell_type": "code",
   "execution_count": 9,
   "metadata": {
    "scrolled": true
   },
   "outputs": [
    {
     "name": "stdout",
     "output_type": "stream",
     "text": [
      "\n",
      "Bread has been removed from your shopping cart.\n",
      "\n"
     ]
    }
   ],
   "source": [
    "cart1.remove_from_cart('bread')"
   ]
  },
  {
   "cell_type": "code",
   "execution_count": 10,
   "metadata": {},
   "outputs": [
    {
     "name": "stdout",
     "output_type": "stream",
     "text": [
      "\n",
      "Below is the list of items in your shopping cart:\n",
      "\n",
      "2 Egg(s)\n"
     ]
    }
   ],
   "source": [
    "cart1.items_in_cart()"
   ]
  },
  {
   "cell_type": "code",
   "execution_count": null,
   "metadata": {},
   "outputs": [],
   "source": []
  }
 ],
 "metadata": {
  "kernelspec": {
   "display_name": "Python 3",
   "language": "python",
   "name": "python3"
  },
  "language_info": {
   "codemirror_mode": {
    "name": "ipython",
    "version": 3
   },
   "file_extension": ".py",
   "mimetype": "text/x-python",
   "name": "python",
   "nbconvert_exporter": "python",
   "pygments_lexer": "ipython3",
   "version": "3.7.6"
  }
 },
 "nbformat": 4,
 "nbformat_minor": 4
}
